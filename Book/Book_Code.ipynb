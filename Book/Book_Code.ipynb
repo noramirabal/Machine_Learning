{
  "nbformat": 4,
  "nbformat_minor": 0,
  "metadata": {
    "colab": {
      "provenance": [],
      "collapsed_sections": []
    },
    "kernelspec": {
      "name": "python3",
      "display_name": "Python 3"
    },
    "language_info": {
      "name": "python"
    }
  },
  "cells": [
    {
      "cell_type": "code",
      "source": [
        "#import to read in file\n",
        "from google.colab import files\n",
        "import io\n",
        "\n",
        "#import numpy and pandas\n",
        "import pandas as pd\n",
        "import numpy as np\n",
        "import tensorflow as tf\n",
        "from sklearn import *\n",
        "\n",
        "#keras\n",
        "import keras as k\n",
        "from keras import models\n",
        "from keras import layers\n",
        "from keras import optimizers\n",
        "from keras import losses\n",
        "from keras import metrics\n",
        "from keras.utils.np_utils import to_categorical\n",
        "\n",
        "#matplotlib\n",
        "import matplotlib.pyplot as plt\n",
        "from plotnine import *\n",
        "\n",
        "from sklearn.model_selection import train_test_split\n",
        "from sklearn.preprocessing import StandardScaler\n",
        "\n",
        "import warnings\n",
        "warnings.filterwarnings('ignore')\n"
      ],
      "metadata": {
        "id": "03fxi-4Fv-ln"
      },
      "execution_count": 252,
      "outputs": []
    },
    {
      "cell_type": "code",
      "execution_count": 253,
      "metadata": {
        "colab": {
          "base_uri": "https://localhost:8080/",
          "height": 73
        },
        "id": "4lTZ2V2JwRYU",
        "outputId": "f382eeb3-084b-430c-93d1-b04b97f56f45"
      },
      "outputs": [
        {
          "output_type": "display_data",
          "data": {
            "text/plain": [
              "<IPython.core.display.HTML object>"
            ],
            "text/html": [
              "\n",
              "     <input type=\"file\" id=\"files-589310fb-b3b8-49fe-ba8e-8d2a06ac3495\" name=\"files[]\" multiple disabled\n",
              "        style=\"border:none\" />\n",
              "     <output id=\"result-589310fb-b3b8-49fe-ba8e-8d2a06ac3495\">\n",
              "      Upload widget is only available when the cell has been executed in the\n",
              "      current browser session. Please rerun this cell to enable.\n",
              "      </output>\n",
              "      <script>// Copyright 2017 Google LLC\n",
              "//\n",
              "// Licensed under the Apache License, Version 2.0 (the \"License\");\n",
              "// you may not use this file except in compliance with the License.\n",
              "// You may obtain a copy of the License at\n",
              "//\n",
              "//      http://www.apache.org/licenses/LICENSE-2.0\n",
              "//\n",
              "// Unless required by applicable law or agreed to in writing, software\n",
              "// distributed under the License is distributed on an \"AS IS\" BASIS,\n",
              "// WITHOUT WARRANTIES OR CONDITIONS OF ANY KIND, either express or implied.\n",
              "// See the License for the specific language governing permissions and\n",
              "// limitations under the License.\n",
              "\n",
              "/**\n",
              " * @fileoverview Helpers for google.colab Python module.\n",
              " */\n",
              "(function(scope) {\n",
              "function span(text, styleAttributes = {}) {\n",
              "  const element = document.createElement('span');\n",
              "  element.textContent = text;\n",
              "  for (const key of Object.keys(styleAttributes)) {\n",
              "    element.style[key] = styleAttributes[key];\n",
              "  }\n",
              "  return element;\n",
              "}\n",
              "\n",
              "// Max number of bytes which will be uploaded at a time.\n",
              "const MAX_PAYLOAD_SIZE = 100 * 1024;\n",
              "\n",
              "function _uploadFiles(inputId, outputId) {\n",
              "  const steps = uploadFilesStep(inputId, outputId);\n",
              "  const outputElement = document.getElementById(outputId);\n",
              "  // Cache steps on the outputElement to make it available for the next call\n",
              "  // to uploadFilesContinue from Python.\n",
              "  outputElement.steps = steps;\n",
              "\n",
              "  return _uploadFilesContinue(outputId);\n",
              "}\n",
              "\n",
              "// This is roughly an async generator (not supported in the browser yet),\n",
              "// where there are multiple asynchronous steps and the Python side is going\n",
              "// to poll for completion of each step.\n",
              "// This uses a Promise to block the python side on completion of each step,\n",
              "// then passes the result of the previous step as the input to the next step.\n",
              "function _uploadFilesContinue(outputId) {\n",
              "  const outputElement = document.getElementById(outputId);\n",
              "  const steps = outputElement.steps;\n",
              "\n",
              "  const next = steps.next(outputElement.lastPromiseValue);\n",
              "  return Promise.resolve(next.value.promise).then((value) => {\n",
              "    // Cache the last promise value to make it available to the next\n",
              "    // step of the generator.\n",
              "    outputElement.lastPromiseValue = value;\n",
              "    return next.value.response;\n",
              "  });\n",
              "}\n",
              "\n",
              "/**\n",
              " * Generator function which is called between each async step of the upload\n",
              " * process.\n",
              " * @param {string} inputId Element ID of the input file picker element.\n",
              " * @param {string} outputId Element ID of the output display.\n",
              " * @return {!Iterable<!Object>} Iterable of next steps.\n",
              " */\n",
              "function* uploadFilesStep(inputId, outputId) {\n",
              "  const inputElement = document.getElementById(inputId);\n",
              "  inputElement.disabled = false;\n",
              "\n",
              "  const outputElement = document.getElementById(outputId);\n",
              "  outputElement.innerHTML = '';\n",
              "\n",
              "  const pickedPromise = new Promise((resolve) => {\n",
              "    inputElement.addEventListener('change', (e) => {\n",
              "      resolve(e.target.files);\n",
              "    });\n",
              "  });\n",
              "\n",
              "  const cancel = document.createElement('button');\n",
              "  inputElement.parentElement.appendChild(cancel);\n",
              "  cancel.textContent = 'Cancel upload';\n",
              "  const cancelPromise = new Promise((resolve) => {\n",
              "    cancel.onclick = () => {\n",
              "      resolve(null);\n",
              "    };\n",
              "  });\n",
              "\n",
              "  // Wait for the user to pick the files.\n",
              "  const files = yield {\n",
              "    promise: Promise.race([pickedPromise, cancelPromise]),\n",
              "    response: {\n",
              "      action: 'starting',\n",
              "    }\n",
              "  };\n",
              "\n",
              "  cancel.remove();\n",
              "\n",
              "  // Disable the input element since further picks are not allowed.\n",
              "  inputElement.disabled = true;\n",
              "\n",
              "  if (!files) {\n",
              "    return {\n",
              "      response: {\n",
              "        action: 'complete',\n",
              "      }\n",
              "    };\n",
              "  }\n",
              "\n",
              "  for (const file of files) {\n",
              "    const li = document.createElement('li');\n",
              "    li.append(span(file.name, {fontWeight: 'bold'}));\n",
              "    li.append(span(\n",
              "        `(${file.type || 'n/a'}) - ${file.size} bytes, ` +\n",
              "        `last modified: ${\n",
              "            file.lastModifiedDate ? file.lastModifiedDate.toLocaleDateString() :\n",
              "                                    'n/a'} - `));\n",
              "    const percent = span('0% done');\n",
              "    li.appendChild(percent);\n",
              "\n",
              "    outputElement.appendChild(li);\n",
              "\n",
              "    const fileDataPromise = new Promise((resolve) => {\n",
              "      const reader = new FileReader();\n",
              "      reader.onload = (e) => {\n",
              "        resolve(e.target.result);\n",
              "      };\n",
              "      reader.readAsArrayBuffer(file);\n",
              "    });\n",
              "    // Wait for the data to be ready.\n",
              "    let fileData = yield {\n",
              "      promise: fileDataPromise,\n",
              "      response: {\n",
              "        action: 'continue',\n",
              "      }\n",
              "    };\n",
              "\n",
              "    // Use a chunked sending to avoid message size limits. See b/62115660.\n",
              "    let position = 0;\n",
              "    do {\n",
              "      const length = Math.min(fileData.byteLength - position, MAX_PAYLOAD_SIZE);\n",
              "      const chunk = new Uint8Array(fileData, position, length);\n",
              "      position += length;\n",
              "\n",
              "      const base64 = btoa(String.fromCharCode.apply(null, chunk));\n",
              "      yield {\n",
              "        response: {\n",
              "          action: 'append',\n",
              "          file: file.name,\n",
              "          data: base64,\n",
              "        },\n",
              "      };\n",
              "\n",
              "      let percentDone = fileData.byteLength === 0 ?\n",
              "          100 :\n",
              "          Math.round((position / fileData.byteLength) * 100);\n",
              "      percent.textContent = `${percentDone}% done`;\n",
              "\n",
              "    } while (position < fileData.byteLength);\n",
              "  }\n",
              "\n",
              "  // All done.\n",
              "  yield {\n",
              "    response: {\n",
              "      action: 'complete',\n",
              "    }\n",
              "  };\n",
              "}\n",
              "\n",
              "scope.google = scope.google || {};\n",
              "scope.google.colab = scope.google.colab || {};\n",
              "scope.google.colab._files = {\n",
              "  _uploadFiles,\n",
              "  _uploadFilesContinue,\n",
              "};\n",
              "})(self);\n",
              "</script> "
            ]
          },
          "metadata": {}
        },
        {
          "output_type": "stream",
          "name": "stdout",
          "text": [
            "Saving book.csv to book (3).csv\n"
          ]
        }
      ],
      "source": [
        "uploaded = files.upload()\n",
        "book = pd.read_csv(io.BytesIO(uploaded['book.csv']))"
      ]
    },
    {
      "cell_type": "markdown",
      "source": [
        "Example 1"
      ],
      "metadata": {
        "id": "FEowQs3oRMBJ"
      }
    },
    {
      "cell_type": "code",
      "source": [
        "#initializing predictors\n",
        "print (book.tail)\n",
        "\n",
        "#book['publication_year'] = pd.to_numeric(book['publication_year'])\n",
        "\n",
        "#publication_year\n",
        "features = ['language_bool', 'num_pages', 'ratings_count', 'text_reviews_count', 'review_bool']\n",
        "predictors = ['language_bool', 'num_pages', 'ratings_count', 'text_reviews_count']\n",
        "bookDF = book[features]\n",
        "print(bookDF.shape)\n",
        "bookDF.dropna(inplace = True)\n",
        "print(bookDF.shape)\n",
        "\n",
        "print (bookDF.tail)\n",
        "#print (book.dtypes)"
      ],
      "metadata": {
        "colab": {
          "base_uri": "https://localhost:8080/"
        },
        "id": "B0BuEL6LVN2U",
        "outputId": "89449b59-b811-4f3e-d72f-f6b5d9e4a4bc"
      },
      "execution_count": 254,
      "outputs": [
        {
          "output_type": "stream",
          "name": "stdout",
          "text": [
            "<bound method NDFrame.tail of        bookID                                              title  \\\n",
            "0           1  Harry Potter and the Half-Blood Prince (Harry ...   \n",
            "1           2  Harry Potter and the Order of the Phoenix (Har...   \n",
            "2           4  Harry Potter and the Chamber of Secrets (Harry...   \n",
            "3           5  Harry Potter and the Prisoner of Azkaban (Harr...   \n",
            "4           8  Harry Potter Boxed Set  Books 1-5 (Harry Potte...   \n",
            "...       ...                                                ...   \n",
            "11118   45631   Expelled from Eden: A William T. Vollmann Reader   \n",
            "11119   45633                        You Bright and Risen Angels   \n",
            "11120   45634                    The Ice-Shirt (Seven Dreams #1)   \n",
            "11121   45639                                        Poor People   \n",
            "11122   45641                        Las aventuras de Tom Sawyer   \n",
            "\n",
            "                                                 authors  average_rating  \\\n",
            "0                             J.K. Rowling/Mary GrandPré            4.57   \n",
            "1                             J.K. Rowling/Mary GrandPré            4.49   \n",
            "2                                           J.K. Rowling            4.42   \n",
            "3                             J.K. Rowling/Mary GrandPré            4.56   \n",
            "4                             J.K. Rowling/Mary GrandPré            4.78   \n",
            "...                                                  ...             ...   \n",
            "11118  William T. Vollmann/Larry McCaffery/Michael He...            4.06   \n",
            "11119                                William T. Vollmann            4.08   \n",
            "11120                                William T. Vollmann            3.96   \n",
            "11121                                William T. Vollmann            3.72   \n",
            "11122                                         Mark Twain            3.91   \n",
            "\n",
            "      language_code  num_pages  ratings_count  text_reviews_count  \\\n",
            "0               eng        652        2095690               27591   \n",
            "1               eng        870        2153167               29221   \n",
            "2               eng        352           6333                 244   \n",
            "3               eng        435        2339585               36325   \n",
            "4               eng       2690          41428                 164   \n",
            "...             ...        ...            ...                 ...   \n",
            "11118           eng        512            156                  20   \n",
            "11119           eng        635            783                  56   \n",
            "11120           eng        415            820                  95   \n",
            "11121           eng        434            769                 139   \n",
            "11122           spa        272            113                  12   \n",
            "\n",
            "      publication_date        publisher  review_bool  language_bool  \\\n",
            "0            9/16/2006  Scholastic Inc.            1              1   \n",
            "1             9/1/2004  Scholastic Inc.            1              1   \n",
            "2            11/1/2003       Scholastic            1              1   \n",
            "3             5/1/2004  Scholastic Inc.            1              1   \n",
            "4            9/13/2004       Scholastic            1              1   \n",
            "...                ...              ...          ...            ...   \n",
            "11118       12/21/2004    Da Capo Press            1              1   \n",
            "11119        12/1/1988    Penguin Books            1              1   \n",
            "11120         8/1/1993    Penguin Books            0              1   \n",
            "11121        2/27/2007             Ecco            0              1   \n",
            "11122        5/28/2006    Edimat Libros            0              0   \n",
            "\n",
            "      publication_year  pages_category  \n",
            "0                 2006               3  \n",
            "1                 2004               3  \n",
            "2                 2003               2  \n",
            "3                 2004               2  \n",
            "4                 2004               4  \n",
            "...                ...             ...  \n",
            "11118             2004               3  \n",
            "11119             1988               3  \n",
            "11120             1993               2  \n",
            "11121             2007               2  \n",
            "11122             2006               1  \n",
            "\n",
            "[11123 rows x 14 columns]>\n",
            "(11123, 5)\n",
            "(11123, 5)\n",
            "<bound method NDFrame.tail of        language_bool  num_pages  ratings_count  text_reviews_count  \\\n",
            "0                  1        652        2095690               27591   \n",
            "1                  1        870        2153167               29221   \n",
            "2                  1        352           6333                 244   \n",
            "3                  1        435        2339585               36325   \n",
            "4                  1       2690          41428                 164   \n",
            "...              ...        ...            ...                 ...   \n",
            "11118              1        512            156                  20   \n",
            "11119              1        635            783                  56   \n",
            "11120              1        415            820                  95   \n",
            "11121              1        434            769                 139   \n",
            "11122              0        272            113                  12   \n",
            "\n",
            "       review_bool  \n",
            "0                1  \n",
            "1                1  \n",
            "2                1  \n",
            "3                1  \n",
            "4                1  \n",
            "...            ...  \n",
            "11118            1  \n",
            "11119            1  \n",
            "11120            0  \n",
            "11121            0  \n",
            "11122            0  \n",
            "\n",
            "[11123 rows x 5 columns]>\n"
          ]
        }
      ]
    },
    {
      "cell_type": "code",
      "source": [
        "X = bookDF[predictors]\n",
        "z = StandardScaler()\n",
        "zScored = z.fit_transform(X)\n",
        "bookDF[predictors] = zScored"
      ],
      "metadata": {
        "id": "2TfroCUZ4M2l"
      },
      "execution_count": 255,
      "outputs": []
    },
    {
      "cell_type": "code",
      "source": [
        "# Split dataset into training set and test set\n",
        "xPred = bookDF[predictors]\n",
        "\n",
        "yClass = bookDF['review_bool']\n",
        "\n",
        "X_train, X_test, y_train, y_test = train_test_split(xPred, yClass, test_size = 0.5) # 50% training and 50% test"
      ],
      "metadata": {
        "id": "rwkEdjAyuioQ"
      },
      "execution_count": 256,
      "outputs": []
    },
    {
      "cell_type": "code",
      "source": [
        "#tensor conversion and processing\n",
        "X_train = X_train.to_numpy()\n",
        "y_train = y_train.to_numpy()\n",
        "\n",
        "X_test = X_test.to_numpy()\n",
        "y_test = y_test.to_numpy()\n",
        "\n",
        "X_train = tf.convert_to_tensor(X_train, dtype = tf.float64)\n",
        "y_train = tf.convert_to_tensor(y_train, dtype = tf.float64)\n",
        "X_test = tf.convert_to_tensor(X_test, dtype = tf.float64)\n",
        "y_test = tf.convert_to_tensor(y_test, dtype = tf.float64)"
      ],
      "metadata": {
        "id": "RYd2yMxrVA6m"
      },
      "execution_count": 257,
      "outputs": []
    },
    {
      "cell_type": "code",
      "source": [
        "#model and layers def\n",
        "model = models.Sequential()\n",
        "model.add(layers.Dense(16, activation='relu', input_shape=(4,)))\n",
        "model.add(layers.Dense(16,activation='relu'))\n",
        "model.add(layers.Dense(1, activation='sigmoid'))\n",
        "\n",
        "model.compile(optimizer='rmsprop',\n",
        "              loss = 'binary_crossentropy',\n",
        "              metrics = ['accuracy'])"
      ],
      "metadata": {
        "id": "UNJUM2_xTU3J"
      },
      "execution_count": 258,
      "outputs": []
    },
    {
      "cell_type": "code",
      "source": [
        "X_val = X_train[:1000]\n",
        "partial_X_train = X_train[1000:]\n",
        "\n",
        "y_val = y_train[:1000]\n",
        "partial_y_train = y_train[1000:]\n",
        "\n",
        "model.compile(optimizer='rmsprop',\n",
        "              loss='binary_crossentropy',\n",
        "              metrics=['acc'])\n",
        "\n",
        "history = model.fit(partial_X_train,\n",
        "                    partial_y_train,\n",
        "                    epochs=20,\n",
        "                    batch_size=512,\n",
        "                    validation_data=(X_val, y_val))\n",
        "model.evaluate(X_test, y_test)\n",
        "results = model.evaluate(X_test, y_test)\n",
        "print(results)\n"
      ],
      "metadata": {
        "colab": {
          "base_uri": "https://localhost:8080/"
        },
        "id": "lpPFzkvAah0X",
        "outputId": "2280f67c-def9-4a73-f102-14a9ee2f2c78"
      },
      "execution_count": 259,
      "outputs": [
        {
          "output_type": "stream",
          "name": "stdout",
          "text": [
            "Epoch 1/20\n",
            "9/9 [==============================] - 1s 23ms/step - loss: 0.6923 - acc: 0.5475 - val_loss: 0.6911 - val_acc: 0.5620\n",
            "Epoch 2/20\n",
            "9/9 [==============================] - 0s 5ms/step - loss: 0.6863 - acc: 0.5861 - val_loss: 0.6859 - val_acc: 0.5650\n",
            "Epoch 3/20\n",
            "9/9 [==============================] - 0s 5ms/step - loss: 0.6829 - acc: 0.5902 - val_loss: 0.6825 - val_acc: 0.5700\n",
            "Epoch 4/20\n",
            "9/9 [==============================] - 0s 5ms/step - loss: 0.6803 - acc: 0.5904 - val_loss: 0.6803 - val_acc: 0.5670\n",
            "Epoch 5/20\n",
            "9/9 [==============================] - 0s 6ms/step - loss: 0.6783 - acc: 0.5957 - val_loss: 0.6792 - val_acc: 0.5620\n",
            "Epoch 6/20\n",
            "9/9 [==============================] - 0s 7ms/step - loss: 0.6769 - acc: 0.5931 - val_loss: 0.6778 - val_acc: 0.5670\n",
            "Epoch 7/20\n",
            "9/9 [==============================] - 0s 5ms/step - loss: 0.6759 - acc: 0.5933 - val_loss: 0.6768 - val_acc: 0.5650\n",
            "Epoch 8/20\n",
            "9/9 [==============================] - 0s 8ms/step - loss: 0.6746 - acc: 0.5935 - val_loss: 0.6766 - val_acc: 0.5660\n",
            "Epoch 9/20\n",
            "9/9 [==============================] - 0s 5ms/step - loss: 0.6737 - acc: 0.5933 - val_loss: 0.6760 - val_acc: 0.5640\n",
            "Epoch 10/20\n",
            "9/9 [==============================] - 0s 5ms/step - loss: 0.6731 - acc: 0.5929 - val_loss: 0.6753 - val_acc: 0.5640\n",
            "Epoch 11/20\n",
            "9/9 [==============================] - 0s 5ms/step - loss: 0.6725 - acc: 0.5935 - val_loss: 0.6752 - val_acc: 0.5640\n",
            "Epoch 12/20\n",
            "9/9 [==============================] - 0s 5ms/step - loss: 0.6720 - acc: 0.5935 - val_loss: 0.6745 - val_acc: 0.5650\n",
            "Epoch 13/20\n",
            "9/9 [==============================] - 0s 9ms/step - loss: 0.6716 - acc: 0.5929 - val_loss: 0.6738 - val_acc: 0.5650\n",
            "Epoch 14/20\n",
            "9/9 [==============================] - 0s 5ms/step - loss: 0.6713 - acc: 0.5924 - val_loss: 0.6742 - val_acc: 0.5670\n",
            "Epoch 15/20\n",
            "9/9 [==============================] - 0s 6ms/step - loss: 0.6709 - acc: 0.5942 - val_loss: 0.6737 - val_acc: 0.5660\n",
            "Epoch 16/20\n",
            "9/9 [==============================] - 0s 5ms/step - loss: 0.6707 - acc: 0.5913 - val_loss: 0.6736 - val_acc: 0.5670\n",
            "Epoch 17/20\n",
            "9/9 [==============================] - 0s 5ms/step - loss: 0.6704 - acc: 0.5933 - val_loss: 0.6739 - val_acc: 0.5660\n",
            "Epoch 18/20\n",
            "9/9 [==============================] - 0s 5ms/step - loss: 0.6703 - acc: 0.5929 - val_loss: 0.6741 - val_acc: 0.5650\n",
            "Epoch 19/20\n",
            "9/9 [==============================] - 0s 5ms/step - loss: 0.6700 - acc: 0.5929 - val_loss: 0.6735 - val_acc: 0.5660\n",
            "Epoch 20/20\n",
            "9/9 [==============================] - 0s 5ms/step - loss: 0.6697 - acc: 0.5937 - val_loss: 0.6737 - val_acc: 0.5660\n",
            "174/174 [==============================] - 0s 2ms/step - loss: 0.6664 - acc: 0.5967\n",
            "174/174 [==============================] - 0s 2ms/step - loss: 0.6664 - acc: 0.5967\n",
            "[0.6664139032363892, 0.5967277884483337]\n"
          ]
        }
      ]
    },
    {
      "cell_type": "code",
      "source": [
        "history_dict = history.history\n",
        "loss_values = history_dict['loss']\n",
        "val_loss_values = history_dict['val_loss']\n",
        "acc = history.history['acc']\n",
        "val_acc = history.history['val_acc']\n",
        "\n",
        "epochs = range(1, len(acc) + 1)\n",
        "\n",
        "plt.plot(epochs, loss_values, 'bo', label='Training loss')\n",
        "plt.plot(epochs, val_loss_values, 'b', label='Validation loss')\n",
        "plt.title('Training and validation loss')\n",
        "plt.xlabel('epochs')\n",
        "plt.ylabel('Loss')\n",
        "plt.legend()\n",
        "plt.show()"
      ],
      "metadata": {
        "colab": {
          "base_uri": "https://localhost:8080/",
          "height": 295
        },
        "id": "dQHcrWTuBQSK",
        "outputId": "b09b187a-62ee-45c0-d456-1e77847ea8ad"
      },
      "execution_count": 260,
      "outputs": [
        {
          "output_type": "display_data",
          "data": {
            "text/plain": [
              "<Figure size 432x288 with 1 Axes>"
            ],
            "image/png": "[encoded data removed]"
          },
          "metadata": {
            "needs_background": "light"
          }
        }
      ]
    },
    {
      "cell_type": "code",
      "source": [
        "plt.clf()\n",
        "acc_values = history_dict['acc']\n",
        "val_acc_values = history_dict['val_acc']\n",
        "plt.plot(epochs, acc, 'bo', label='Training acc')\n",
        "plt.plot(epochs, val_acc, 'b', label = 'Validation acc')\n",
        "plt.title('Training and validation accuracy')\n",
        "plt.xlabel('Epochs')\n",
        "plt.ylabel('Loss')\n",
        "plt.legend()\n",
        "plt.show()"
      ],
      "metadata": {
        "colab": {
          "base_uri": "https://localhost:8080/",
          "height": 295
        },
        "id": "-mlfFXlaC4p-",
        "outputId": "b98ead06-0615-4712-a8eb-f2515df41a6d"
      },
      "execution_count": 261,
      "outputs": [
        {
          "output_type": "display_data",
          "data": {
            "text/plain": [
              "<Figure size 432x288 with 1 Axes>"
            ],
            "image/png": "[encoded data removed]"
          },
          "metadata": {
            "needs_background": "light"
          }
        }
      ]
    },
    {
      "cell_type": "markdown",
      "source": [
        "Example 1: Further"
      ],
      "metadata": {
        "id": "1bGB3sWfRQzZ"
      }
    },
    {
      "cell_type": "code",
      "source": [
        "#further experiments\n",
        "model1 = models.Sequential()\n",
        "model1.add(layers.Dense(16, activation='relu', input_shape=(4,)))\n",
        "model1.add(layers.Dense(16, activation='relu'))\n",
        "model1.add(layers.Dense(16, activation='relu'))\n",
        "model1.add(layers.Dense(16, activation='relu'))\n",
        "model1.add(layers.Dense(1, activation='sigmoid'))\n",
        "model1.compile(optimizer='rmsprop',\n",
        "loss='binary_crossentropy',\n",
        "metrics=['accuracy'])\n",
        "model1.fit(X_train, y_train, epochs=20, batch_size=512)\n",
        "results = model1.evaluate(X_test, y_test)\n",
        "print(results)"
      ],
      "metadata": {
        "colab": {
          "base_uri": "https://localhost:8080/"
        },
        "id": "gLKe3aQvMGWH",
        "outputId": "885f4459-92f0-4a1a-cb2b-a435217f55bf"
      },
      "execution_count": 262,
      "outputs": [
        {
          "output_type": "stream",
          "name": "stdout",
          "text": [
            "Epoch 1/20\n",
            "11/11 [==============================] - 1s 3ms/step - loss: 0.6900 - accuracy: 0.5596\n",
            "Epoch 2/20\n",
            "11/11 [==============================] - 0s 2ms/step - loss: 0.6820 - accuracy: 0.5869\n",
            "Epoch 3/20\n",
            "11/11 [==============================] - 0s 2ms/step - loss: 0.6774 - accuracy: 0.5873\n",
            "Epoch 4/20\n",
            "11/11 [==============================] - 0s 3ms/step - loss: 0.6743 - accuracy: 0.5868\n",
            "Epoch 5/20\n",
            "11/11 [==============================] - 0s 2ms/step - loss: 0.6727 - accuracy: 0.5857\n",
            "Epoch 6/20\n",
            "11/11 [==============================] - 0s 3ms/step - loss: 0.6719 - accuracy: 0.5878\n",
            "Epoch 7/20\n",
            "11/11 [==============================] - 0s 2ms/step - loss: 0.6714 - accuracy: 0.5869\n",
            "Epoch 8/20\n",
            "11/11 [==============================] - 0s 3ms/step - loss: 0.6709 - accuracy: 0.5848\n",
            "Epoch 9/20\n",
            "11/11 [==============================] - 0s 2ms/step - loss: 0.6707 - accuracy: 0.5871\n",
            "Epoch 10/20\n",
            "11/11 [==============================] - 0s 2ms/step - loss: 0.6703 - accuracy: 0.5884\n",
            "Epoch 11/20\n",
            "11/11 [==============================] - 0s 3ms/step - loss: 0.6702 - accuracy: 0.5882\n",
            "Epoch 12/20\n",
            "11/11 [==============================] - 0s 2ms/step - loss: 0.6696 - accuracy: 0.5877\n",
            "Epoch 13/20\n",
            "11/11 [==============================] - 0s 3ms/step - loss: 0.6696 - accuracy: 0.5884\n",
            "Epoch 14/20\n",
            "11/11 [==============================] - 0s 3ms/step - loss: 0.6694 - accuracy: 0.5889\n",
            "Epoch 15/20\n",
            "11/11 [==============================] - 0s 2ms/step - loss: 0.6692 - accuracy: 0.5873\n",
            "Epoch 16/20\n",
            "11/11 [==============================] - 0s 4ms/step - loss: 0.6688 - accuracy: 0.5887\n",
            "Epoch 17/20\n",
            "11/11 [==============================] - 0s 3ms/step - loss: 0.6686 - accuracy: 0.5889\n",
            "Epoch 18/20\n",
            "11/11 [==============================] - 0s 3ms/step - loss: 0.6681 - accuracy: 0.5900\n",
            "Epoch 19/20\n",
            "11/11 [==============================] - 0s 2ms/step - loss: 0.6687 - accuracy: 0.5893\n",
            "Epoch 20/20\n",
            "11/11 [==============================] - 0s 3ms/step - loss: 0.6683 - accuracy: 0.5893\n",
            "174/174 [==============================] - 0s 2ms/step - loss: 0.6631 - accuracy: 0.5973\n",
            "[0.6630861759185791, 0.5972671508789062]\n"
          ]
        }
      ]
    },
    {
      "cell_type": "code",
      "source": [
        "model2 = models.Sequential()\n",
        "model2.add(layers.Dense(32, activation='relu', input_shape=(4,)))\n",
        "model2.add(layers.Dense(32, activation='relu'))\n",
        "model2.add(layers.Dense(1, activation='sigmoid'))\n",
        "model2.compile(optimizer='rmsprop',\n",
        "loss='binary_crossentropy',\n",
        "metrics=['accuracy'])\n",
        "model2.fit(X_train, y_train, epochs=20, batch_size=512)\n",
        "results = model2.evaluate(X_test, y_test)\n",
        "print(results)"
      ],
      "metadata": {
        "colab": {
          "base_uri": "https://localhost:8080/"
        },
        "id": "miA-CE7mOMtG",
        "outputId": "10c5d99d-1759-4cee-a378-7e16e75c0c8f"
      },
      "execution_count": 263,
      "outputs": [
        {
          "output_type": "stream",
          "name": "stdout",
          "text": [
            "Epoch 1/20\n",
            "11/11 [==============================] - 1s 3ms/step - loss: 0.6828 - accuracy: 0.5776\n",
            "Epoch 2/20\n",
            "11/11 [==============================] - 0s 2ms/step - loss: 0.6768 - accuracy: 0.5893\n",
            "Epoch 3/20\n",
            "11/11 [==============================] - 0s 3ms/step - loss: 0.6748 - accuracy: 0.5905\n",
            "Epoch 4/20\n",
            "11/11 [==============================] - 0s 3ms/step - loss: 0.6731 - accuracy: 0.5880\n",
            "Epoch 5/20\n",
            "11/11 [==============================] - 0s 3ms/step - loss: 0.6721 - accuracy: 0.5862\n",
            "Epoch 6/20\n",
            "11/11 [==============================] - 0s 3ms/step - loss: 0.6712 - accuracy: 0.5875\n",
            "Epoch 7/20\n",
            "11/11 [==============================] - 0s 2ms/step - loss: 0.6705 - accuracy: 0.5860\n",
            "Epoch 8/20\n",
            "11/11 [==============================] - 0s 2ms/step - loss: 0.6699 - accuracy: 0.5866\n",
            "Epoch 9/20\n",
            "11/11 [==============================] - 0s 2ms/step - loss: 0.6696 - accuracy: 0.5877\n",
            "Epoch 10/20\n",
            "11/11 [==============================] - 0s 3ms/step - loss: 0.6692 - accuracy: 0.5882\n",
            "Epoch 11/20\n",
            "11/11 [==============================] - 0s 3ms/step - loss: 0.6689 - accuracy: 0.5887\n",
            "Epoch 12/20\n",
            "11/11 [==============================] - 0s 3ms/step - loss: 0.6686 - accuracy: 0.5931\n",
            "Epoch 13/20\n",
            "11/11 [==============================] - 0s 3ms/step - loss: 0.6688 - accuracy: 0.5905\n",
            "Epoch 14/20\n",
            "11/11 [==============================] - 0s 2ms/step - loss: 0.6684 - accuracy: 0.5914\n",
            "Epoch 15/20\n",
            "11/11 [==============================] - 0s 2ms/step - loss: 0.6682 - accuracy: 0.5925\n",
            "Epoch 16/20\n",
            "11/11 [==============================] - 0s 3ms/step - loss: 0.6680 - accuracy: 0.5911\n",
            "Epoch 17/20\n",
            "11/11 [==============================] - 0s 2ms/step - loss: 0.6679 - accuracy: 0.5922\n",
            "Epoch 18/20\n",
            "11/11 [==============================] - 0s 2ms/step - loss: 0.6677 - accuracy: 0.5931\n",
            "Epoch 19/20\n",
            "11/11 [==============================] - 0s 2ms/step - loss: 0.6673 - accuracy: 0.5922\n",
            "Epoch 20/20\n",
            "11/11 [==============================] - 0s 3ms/step - loss: 0.6675 - accuracy: 0.5920\n",
            "174/174 [==============================] - 0s 1ms/step - loss: 0.6619 - accuracy: 0.6034\n",
            "[0.6618506908416748, 0.6033800840377808]\n"
          ]
        }
      ]
    },
    {
      "cell_type": "code",
      "source": [
        "model3 = models.Sequential()\n",
        "model3.add(layers.Dense(16, activation='relu', input_shape=(4,)))\n",
        "model3.add(layers.Dense(16, activation='relu'))\n",
        "model3.add(layers.Dense(1, activation='sigmoid'))\n",
        "model3.compile(optimizer='rmsprop',\n",
        "loss='mse',\n",
        "metrics=['accuracy'])\n",
        "model3.fit(X_train, y_train, epochs=20, batch_size=512)\n",
        "results = model3.evaluate(X_test, y_test)\n",
        "print(results)"
      ],
      "metadata": {
        "colab": {
          "base_uri": "https://localhost:8080/"
        },
        "id": "zt6fQLJZOU_c",
        "outputId": "9901b9aa-c74b-467e-d924-2e25a2cadb1d"
      },
      "execution_count": 264,
      "outputs": [
        {
          "output_type": "stream",
          "name": "stdout",
          "text": [
            "Epoch 1/20\n",
            "11/11 [==============================] - 1s 2ms/step - loss: 0.2517 - accuracy: 0.5111\n",
            "Epoch 2/20\n",
            "11/11 [==============================] - 0s 2ms/step - loss: 0.2464 - accuracy: 0.5833\n",
            "Epoch 3/20\n",
            "11/11 [==============================] - 0s 2ms/step - loss: 0.2440 - accuracy: 0.5880\n",
            "Epoch 4/20\n",
            "11/11 [==============================] - 0s 2ms/step - loss: 0.2427 - accuracy: 0.5877\n",
            "Epoch 5/20\n",
            "11/11 [==============================] - 0s 3ms/step - loss: 0.2417 - accuracy: 0.5882\n",
            "Epoch 6/20\n",
            "11/11 [==============================] - 0s 2ms/step - loss: 0.2412 - accuracy: 0.5900\n",
            "Epoch 7/20\n",
            "11/11 [==============================] - 0s 2ms/step - loss: 0.2406 - accuracy: 0.5895\n",
            "Epoch 8/20\n",
            "11/11 [==============================] - 0s 2ms/step - loss: 0.2401 - accuracy: 0.5900\n",
            "Epoch 9/20\n",
            "11/11 [==============================] - 0s 2ms/step - loss: 0.2398 - accuracy: 0.5904\n",
            "Epoch 10/20\n",
            "11/11 [==============================] - 0s 2ms/step - loss: 0.2395 - accuracy: 0.5893\n",
            "Epoch 11/20\n",
            "11/11 [==============================] - 0s 3ms/step - loss: 0.2394 - accuracy: 0.5887\n",
            "Epoch 12/20\n",
            "11/11 [==============================] - 0s 2ms/step - loss: 0.2392 - accuracy: 0.5896\n",
            "Epoch 13/20\n",
            "11/11 [==============================] - 0s 2ms/step - loss: 0.2390 - accuracy: 0.5907\n",
            "Epoch 14/20\n",
            "11/11 [==============================] - 0s 2ms/step - loss: 0.2390 - accuracy: 0.5900\n",
            "Epoch 15/20\n",
            "11/11 [==============================] - 0s 2ms/step - loss: 0.2388 - accuracy: 0.5898\n",
            "Epoch 16/20\n",
            "11/11 [==============================] - 0s 2ms/step - loss: 0.2388 - accuracy: 0.5893\n",
            "Epoch 17/20\n",
            "11/11 [==============================] - 0s 2ms/step - loss: 0.2386 - accuracy: 0.5886\n",
            "Epoch 18/20\n",
            "11/11 [==============================] - 0s 2ms/step - loss: 0.2386 - accuracy: 0.5911\n",
            "Epoch 19/20\n",
            "11/11 [==============================] - 0s 2ms/step - loss: 0.2386 - accuracy: 0.5882\n",
            "Epoch 20/20\n",
            "11/11 [==============================] - 0s 2ms/step - loss: 0.2385 - accuracy: 0.5902\n",
            "174/174 [==============================] - 0s 1ms/step - loss: 0.2358 - accuracy: 0.5992\n",
            "[0.23581671714782715, 0.5992448925971985]\n"
          ]
        }
      ]
    },
    {
      "cell_type": "code",
      "source": [
        "model4 = models.Sequential()\n",
        "model4.add(layers.Dense(16, activation='tanh', input_shape=(4,)))\n",
        "model4.add(layers.Dense(16, activation='tanh'))\n",
        "model4.add(layers.Dense(1, activation='sigmoid'))\n",
        "model4.compile(optimizer='rmsprop',\n",
        "loss='binary_crossentropy',\n",
        "metrics=['accuracy'])\n",
        "model.fit(X_train, y_train, epochs=20, batch_size=512)\n",
        "results = model4.evaluate(X_test, y_test)\n",
        "print(results)"
      ],
      "metadata": {
        "colab": {
          "base_uri": "https://localhost:8080/"
        },
        "id": "sH2e-Tf2OcLU",
        "outputId": "61340677-0e23-4fdf-b878-045369e9ea5f"
      },
      "execution_count": 265,
      "outputs": [
        {
          "output_type": "stream",
          "name": "stdout",
          "text": [
            "Epoch 1/20\n",
            "11/11 [==============================] - 0s 2ms/step - loss: 0.6702 - acc: 0.5880\n",
            "Epoch 2/20\n",
            "11/11 [==============================] - 0s 2ms/step - loss: 0.6699 - acc: 0.5887\n",
            "Epoch 3/20\n",
            "11/11 [==============================] - 0s 3ms/step - loss: 0.6699 - acc: 0.5900\n",
            "Epoch 4/20\n",
            "11/11 [==============================] - 0s 3ms/step - loss: 0.6696 - acc: 0.5887\n",
            "Epoch 5/20\n",
            "11/11 [==============================] - 0s 2ms/step - loss: 0.6694 - acc: 0.5904\n",
            "Epoch 6/20\n",
            "11/11 [==============================] - 0s 2ms/step - loss: 0.6694 - acc: 0.5895\n",
            "Epoch 7/20\n",
            "11/11 [==============================] - 0s 2ms/step - loss: 0.6691 - acc: 0.5893\n",
            "Epoch 8/20\n",
            "11/11 [==============================] - 0s 2ms/step - loss: 0.6690 - acc: 0.5904\n",
            "Epoch 9/20\n",
            "11/11 [==============================] - 0s 2ms/step - loss: 0.6689 - acc: 0.5918\n",
            "Epoch 10/20\n",
            "11/11 [==============================] - 0s 2ms/step - loss: 0.6688 - acc: 0.5895\n",
            "Epoch 11/20\n",
            "11/11 [==============================] - 0s 2ms/step - loss: 0.6687 - acc: 0.5916\n",
            "Epoch 12/20\n",
            "11/11 [==============================] - 0s 2ms/step - loss: 0.6686 - acc: 0.5905\n",
            "Epoch 13/20\n",
            "11/11 [==============================] - 0s 2ms/step - loss: 0.6686 - acc: 0.5911\n",
            "Epoch 14/20\n",
            "11/11 [==============================] - 0s 3ms/step - loss: 0.6686 - acc: 0.5893\n",
            "Epoch 15/20\n",
            "11/11 [==============================] - 0s 2ms/step - loss: 0.6685 - acc: 0.5911\n",
            "Epoch 16/20\n",
            "11/11 [==============================] - 0s 3ms/step - loss: 0.6683 - acc: 0.5909\n",
            "Epoch 17/20\n",
            "11/11 [==============================] - 0s 2ms/step - loss: 0.6683 - acc: 0.5923\n",
            "Epoch 18/20\n",
            "11/11 [==============================] - 0s 2ms/step - loss: 0.6682 - acc: 0.5927\n",
            "Epoch 19/20\n",
            "11/11 [==============================] - 0s 3ms/step - loss: 0.6683 - acc: 0.5914\n",
            "Epoch 20/20\n",
            "11/11 [==============================] - 0s 2ms/step - loss: 0.6681 - acc: 0.5914\n",
            "174/174 [==============================] - 0s 2ms/step - loss: 0.7412 - accuracy: 0.4421\n",
            "[0.741212010383606, 0.4421071410179138]\n"
          ]
        }
      ]
    },
    {
      "cell_type": "markdown",
      "source": [
        "Example 2"
      ],
      "metadata": {
        "id": "4pozjlWDqISH"
      }
    },
    {
      "cell_type": "code",
      "source": [
        "#Publication year\n",
        "features2 = ['average_rating', 'ratings_count', 'text_reviews_count', 'language_bool', 'pages_category']\n",
        "predictors2 = ['average_rating', 'ratings_count', 'text_reviews_count', 'language_bool']\n",
        "\n",
        "bookDF2 = book[features2]\n",
        "print(bookDF2.shape)\n",
        "bookDF2.dropna(inplace = True)\n",
        "print(bookDF2.shape)\n"
      ],
      "metadata": {
        "colab": {
          "base_uri": "https://localhost:8080/"
        },
        "id": "O3S9JTjfphY1",
        "outputId": "499b8b61-3cb4-4cb0-d0fb-3e7a50b9e29c"
      },
      "execution_count": 266,
      "outputs": [
        {
          "output_type": "stream",
          "name": "stdout",
          "text": [
            "(11123, 5)\n",
            "(11123, 5)\n"
          ]
        }
      ]
    },
    {
      "cell_type": "code",
      "source": [
        "X2 = bookDF2[predictors2]\n",
        "z2 = StandardScaler()\n",
        "zScored = z.fit_transform(X2)\n",
        "bookDF2[predictors2] = zScored"
      ],
      "metadata": {
        "id": "apuWZOBTxgMZ"
      },
      "execution_count": 267,
      "outputs": []
    },
    {
      "cell_type": "code",
      "source": [
        "XPred2 = bookDF2[predictors2]\n",
        "yClass2 = bookDF2['pages_category']\n",
        "\n",
        "X_train2, X_test2, y_train2, y_test2 = train_test_split(XPred2, yClass2, test_size = 0.2, random_state = 33)"
      ],
      "metadata": {
        "id": "Bj8RlRM5yUEi"
      },
      "execution_count": 268,
      "outputs": []
    },
    {
      "cell_type": "code",
      "source": [
        "X_train2 = X_train2.to_numpy()\n",
        "y_train2 = y_train2.to_numpy()\n",
        "\n",
        "X_test2 = X_test2.to_numpy()\n",
        "y_test2 = y_test2.to_numpy()\n",
        "\n",
        "X_train2 = tf.convert_to_tensor(X_train2, dtype = tf.float64)\n",
        "y_train2 = tf.convert_to_tensor(y_train2, dtype = tf.float64)\n",
        "X_test2 = tf.convert_to_tensor(X_test2, dtype = tf.float64)\n",
        "y_test2 = tf.convert_to_tensor(y_test2, dtype = tf.float64)\n",
        "\n",
        "one_hot_train_labels = to_categorical(y_train2)\n",
        "one_hot_test_labels = to_categorical(y_test2)"
      ],
      "metadata": {
        "id": "COeqEl72y3d2"
      },
      "execution_count": 269,
      "outputs": []
    },
    {
      "cell_type": "code",
      "source": [
        "model5 = models.Sequential()\n",
        "model5.add(layers.Dense(16, activation='relu', input_shape=(4,)))\n",
        "model5.add(layers.Dense(16, activation='relu'))\n",
        "model5.add(layers.Dense(5, activation='softmax'))\n"
      ],
      "metadata": {
        "id": "bESuSGUbzHeM"
      },
      "execution_count": 270,
      "outputs": []
    },
    {
      "cell_type": "code",
      "source": [
        "model5.compile(optimizer='rmsprop',\n",
        "              loss='categorical_crossentropy',\n",
        "              metrics=['accuracy'])"
      ],
      "metadata": {
        "id": "8yInKAfgzLag"
      },
      "execution_count": 271,
      "outputs": []
    },
    {
      "cell_type": "code",
      "source": [
        "X_val2 = X_train2[:4000]\n",
        "partial_X_train2 = X_train2[4000:]\n",
        "y_val2 = one_hot_train_labels[:4000]\n",
        "partial_y_train2 = one_hot_train_labels[4000:]"
      ],
      "metadata": {
        "id": "oC5RMQ46zNsp"
      },
      "execution_count": 272,
      "outputs": []
    },
    {
      "cell_type": "code",
      "source": [
        "history = model.fit(partial_X_train2,\n",
        "                    partial_y_train2,\n",
        "                    epochs=20,\n",
        "                    batch_size=512,\n",
        "                    validation_data=(X_val2, y_val2))"
      ],
      "metadata": {
        "colab": {
          "base_uri": "https://localhost:8080/",
          "height": 762
        },
        "id": "CjHg4SwWzX0D",
        "outputId": "935abb41-cc4e-41c1-eab1-034cb446256f"
      },
      "execution_count": 278,
      "outputs": [
        {
          "output_type": "stream",
          "name": "stdout",
          "text": [
            "Epoch 1/20\n"
          ]
        },
        {
          "output_type": "error",
          "ename": "ValueError",
          "evalue": "ignored",
          "traceback": [
            "\u001b[0;31m---------------------------------------------------------------------------\u001b[0m",
            "\u001b[0;31mValueError\u001b[0m                                Traceback (most recent call last)",
            "\u001b[0;32m<ipython-input-278-dc67fb9ccf98>\u001b[0m in \u001b[0;36m<module>\u001b[0;34m\u001b[0m\n\u001b[1;32m      3\u001b[0m                     \u001b[0mepochs\u001b[0m\u001b[0;34m=\u001b[0m\u001b[0;36m20\u001b[0m\u001b[0;34m,\u001b[0m\u001b[0;34m\u001b[0m\u001b[0;34m\u001b[0m\u001b[0m\n\u001b[1;32m      4\u001b[0m                     \u001b[0mbatch_size\u001b[0m\u001b[0;34m=\u001b[0m\u001b[0;36m512\u001b[0m\u001b[0;34m,\u001b[0m\u001b[0;34m\u001b[0m\u001b[0;34m\u001b[0m\u001b[0m\n\u001b[0;32m----> 5\u001b[0;31m                     validation_data=(X_val2, y_val2))\n\u001b[0m",
            "\u001b[0;32m/usr/local/lib/python3.7/dist-packages/keras/utils/traceback_utils.py\u001b[0m in \u001b[0;36merror_handler\u001b[0;34m(*args, **kwargs)\u001b[0m\n\u001b[1;32m     65\u001b[0m     \u001b[0;32mexcept\u001b[0m \u001b[0mException\u001b[0m \u001b[0;32mas\u001b[0m \u001b[0me\u001b[0m\u001b[0;34m:\u001b[0m  \u001b[0;31m# pylint: disable=broad-except\u001b[0m\u001b[0;34m\u001b[0m\u001b[0;34m\u001b[0m\u001b[0m\n\u001b[1;32m     66\u001b[0m       \u001b[0mfiltered_tb\u001b[0m \u001b[0;34m=\u001b[0m \u001b[0m_process_traceback_frames\u001b[0m\u001b[0;34m(\u001b[0m\u001b[0me\u001b[0m\u001b[0;34m.\u001b[0m\u001b[0m__traceback__\u001b[0m\u001b[0;34m)\u001b[0m\u001b[0;34m\u001b[0m\u001b[0;34m\u001b[0m\u001b[0m\n\u001b[0;32m---> 67\u001b[0;31m       \u001b[0;32mraise\u001b[0m \u001b[0me\u001b[0m\u001b[0;34m.\u001b[0m\u001b[0mwith_traceback\u001b[0m\u001b[0;34m(\u001b[0m\u001b[0mfiltered_tb\u001b[0m\u001b[0;34m)\u001b[0m \u001b[0;32mfrom\u001b[0m \u001b[0;32mNone\u001b[0m\u001b[0;34m\u001b[0m\u001b[0;34m\u001b[0m\u001b[0m\n\u001b[0m\u001b[1;32m     68\u001b[0m     \u001b[0;32mfinally\u001b[0m\u001b[0;34m:\u001b[0m\u001b[0;34m\u001b[0m\u001b[0;34m\u001b[0m\u001b[0m\n\u001b[1;32m     69\u001b[0m       \u001b[0;32mdel\u001b[0m \u001b[0mfiltered_tb\u001b[0m\u001b[0;34m\u001b[0m\u001b[0;34m\u001b[0m\u001b[0m\n",
            "\u001b[0;32m/usr/local/lib/python3.7/dist-packages/keras/engine/training.py\u001b[0m in \u001b[0;36mtf__train_function\u001b[0;34m(iterator)\u001b[0m\n\u001b[1;32m     13\u001b[0m                 \u001b[0;32mtry\u001b[0m\u001b[0;34m:\u001b[0m\u001b[0;34m\u001b[0m\u001b[0;34m\u001b[0m\u001b[0m\n\u001b[1;32m     14\u001b[0m                     \u001b[0mdo_return\u001b[0m \u001b[0;34m=\u001b[0m \u001b[0;32mTrue\u001b[0m\u001b[0;34m\u001b[0m\u001b[0;34m\u001b[0m\u001b[0m\n\u001b[0;32m---> 15\u001b[0;31m                     \u001b[0mretval_\u001b[0m \u001b[0;34m=\u001b[0m \u001b[0mag__\u001b[0m\u001b[0;34m.\u001b[0m\u001b[0mconverted_call\u001b[0m\u001b[0;34m(\u001b[0m\u001b[0mag__\u001b[0m\u001b[0;34m.\u001b[0m\u001b[0mld\u001b[0m\u001b[0;34m(\u001b[0m\u001b[0mstep_function\u001b[0m\u001b[0;34m)\u001b[0m\u001b[0;34m,\u001b[0m \u001b[0;34m(\u001b[0m\u001b[0mag__\u001b[0m\u001b[0;34m.\u001b[0m\u001b[0mld\u001b[0m\u001b[0;34m(\u001b[0m\u001b[0mself\u001b[0m\u001b[0;34m)\u001b[0m\u001b[0;34m,\u001b[0m \u001b[0mag__\u001b[0m\u001b[0;34m.\u001b[0m\u001b[0mld\u001b[0m\u001b[0;34m(\u001b[0m\u001b[0miterator\u001b[0m\u001b[0;34m)\u001b[0m\u001b[0;34m)\u001b[0m\u001b[0;34m,\u001b[0m \u001b[0;32mNone\u001b[0m\u001b[0;34m,\u001b[0m \u001b[0mfscope\u001b[0m\u001b[0;34m)\u001b[0m\u001b[0;34m\u001b[0m\u001b[0;34m\u001b[0m\u001b[0m\n\u001b[0m\u001b[1;32m     16\u001b[0m                 \u001b[0;32mexcept\u001b[0m\u001b[0;34m:\u001b[0m\u001b[0;34m\u001b[0m\u001b[0;34m\u001b[0m\u001b[0m\n\u001b[1;32m     17\u001b[0m                     \u001b[0mdo_return\u001b[0m \u001b[0;34m=\u001b[0m \u001b[0;32mFalse\u001b[0m\u001b[0;34m\u001b[0m\u001b[0;34m\u001b[0m\u001b[0m\n",
            "\u001b[0;31mValueError\u001b[0m: in user code:\n\n    File \"/usr/local/lib/python3.7/dist-packages/keras/engine/training.py\", line 1051, in train_function  *\n        return step_function(self, iterator)\n    File \"/usr/local/lib/python3.7/dist-packages/keras/engine/training.py\", line 1040, in step_function  **\n        outputs = model.distribute_strategy.run(run_step, args=(data,))\n    File \"/usr/local/lib/python3.7/dist-packages/keras/engine/training.py\", line 1030, in run_step  **\n        outputs = model.train_step(data)\n    File \"/usr/local/lib/python3.7/dist-packages/keras/engine/training.py\", line 890, in train_step\n        loss = self.compute_loss(x, y, y_pred, sample_weight)\n    File \"/usr/local/lib/python3.7/dist-packages/keras/engine/training.py\", line 949, in compute_loss\n        y, y_pred, sample_weight, regularization_losses=self.losses)\n    File \"/usr/local/lib/python3.7/dist-packages/keras/engine/compile_utils.py\", line 201, in __call__\n        loss_value = loss_obj(y_t, y_p, sample_weight=sw)\n    File \"/usr/local/lib/python3.7/dist-packages/keras/losses.py\", line 139, in __call__\n        losses = call_fn(y_true, y_pred)\n    File \"/usr/local/lib/python3.7/dist-packages/keras/losses.py\", line 243, in call  **\n        return ag_fn(y_true, y_pred, **self._fn_kwargs)\n    File \"/usr/local/lib/python3.7/dist-packages/keras/losses.py\", line 1930, in binary_crossentropy\n        backend.binary_crossentropy(y_true, y_pred, from_logits=from_logits),\n    File \"/usr/local/lib/python3.7/dist-packages/keras/backend.py\", line 5283, in binary_crossentropy\n        return tf.nn.sigmoid_cross_entropy_with_logits(labels=target, logits=output)\n\n    ValueError: `logits` and `labels` must have the same shape, received ((None, 1) vs (None, 5)).\n"
          ]
        }
      ]
    },
    {
      "cell_type": "code",
      "source": [
        "results = model5.evaluate(X_test2, one_hot_test_labels)\n",
        "print(results)"
      ],
      "metadata": {
        "colab": {
          "base_uri": "https://localhost:8080/"
        },
        "id": "OKwV_ATRVYWx",
        "outputId": "7e095eb2-9481-476c-cfb3-822141afc5fb"
      },
      "execution_count": 274,
      "outputs": [
        {
          "output_type": "stream",
          "name": "stdout",
          "text": [
            "70/70 [==============================] - 0s 2ms/step - loss: 1.6744 - accuracy: 0.0503\n",
            "[1.6744493246078491, 0.05033707991242409]\n"
          ]
        }
      ]
    },
    {
      "cell_type": "code",
      "source": [
        "history_dict = history.history\n",
        "history_dict.keys()\n",
        "loss = history.history['loss']\n",
        "val_loss = history.history['val_loss']\n",
        "epochs = range(1, len(loss) + 1)\n",
        "plt.plot(epochs, loss, 'bo', label='Training loss')\n",
        "plt.plot(epochs, val_loss, 'b', label='Validation loss')\n",
        "plt.title('Training and validation loss')\n",
        "plt.xlabel('Epochs')\n",
        "plt.ylabel('Loss')\n",
        "plt.legend()\n",
        "plt.show()"
      ],
      "metadata": {
        "colab": {
          "base_uri": "https://localhost:8080/",
          "height": 295
        },
        "id": "tNNAmBOE0cQR",
        "outputId": "edd1b11f-ff47-4a33-dca9-411ec25d217e"
      },
      "execution_count": 280,
      "outputs": [
        {
          "output_type": "display_data",
          "data": {
            "text/plain": [
              "<Figure size 432x288 with 1 Axes>"
            ],
            "image/png": "[encoded data removed]"
          },
          "metadata": {
            "needs_background": "light"
          }
        }
      ]
    },
    {
      "cell_type": "code",
      "source": [
        "#training and validation accuracy\n",
        "plt.clf()\n",
        "acc = history.history['acc']\n",
        "val_acc = history.history['val_acc']\n",
        "plt.plot(epochs, acc, 'bo', label='Training acc')\n",
        "plt.plot(epochs, val_acc, 'b', label='Validation acc')\n",
        "plt.title('Training and validation accuracy')\n",
        "plt.xlabel('Epochs')\n",
        "plt.ylabel('Loss')\n",
        "plt.legend()\n",
        "plt.show()"
      ],
      "metadata": {
        "colab": {
          "base_uri": "https://localhost:8080/",
          "height": 295
        },
        "id": "yWxBrkpw0l9p",
        "outputId": "49349a50-c3bb-4bfa-cacf-018dc32515e1"
      },
      "execution_count": 281,
      "outputs": [
        {
          "output_type": "display_data",
          "data": {
            "text/plain": [
              "<Figure size 432x288 with 1 Axes>"
            ],
            "image/png": "[encoded data removed]"
          },
          "metadata": {
            "needs_background": "light"
          }
        }
      ]
    },
    {
      "cell_type": "code",
      "source": [
        "model6 = models.Sequential()\n",
        "model6.add(layers.Dense(16, activation='relu', input_shape=(4,)))\n",
        "model6.add(layers.Dense(16, activation='relu'))\n",
        "model6.add(layers.Dense(5, activation='softmax'))\n",
        "model6.compile(optimizer='rmsprop',\n",
        "              loss='categorical_crossentropy',\n",
        "              metrics=['accuracy'])\n",
        "\n",
        "model6.fit(partial_X_train2,\n",
        "          partial_y_train2,\n",
        "          epochs=6,\n",
        "          batch_size=512,\n",
        "          validation_data=(X_val2, y_val2))\n",
        "\n",
        "results = model6.evaluate(X_test2, one_hot_test_labels)"
      ],
      "metadata": {
        "colab": {
          "base_uri": "https://localhost:8080/"
        },
        "id": "mlbNtPKv0prm",
        "outputId": "87fc9015-cb8a-476c-fe31-80c2a77b3247"
      },
      "execution_count": 282,
      "outputs": [
        {
          "output_type": "stream",
          "name": "stdout",
          "text": [
            "Epoch 1/6\n",
            "10/10 [==============================] - 3s 121ms/step - loss: 1.6835 - accuracy: 0.1729 - val_loss: 1.6398 - val_accuracy: 0.1980\n",
            "Epoch 2/6\n",
            "10/10 [==============================] - 0s 31ms/step - loss: 1.6184 - accuracy: 0.2115 - val_loss: 1.5923 - val_accuracy: 0.2355\n",
            "Epoch 3/6\n",
            "10/10 [==============================] - 0s 44ms/step - loss: 1.5757 - accuracy: 0.2519 - val_loss: 1.5527 - val_accuracy: 0.2800\n",
            "Epoch 4/6\n",
            "10/10 [==============================] - 0s 29ms/step - loss: 1.5390 - accuracy: 0.2981 - val_loss: 1.5174 - val_accuracy: 0.3198\n",
            "Epoch 5/6\n",
            "10/10 [==============================] - 0s 41ms/step - loss: 1.5065 - accuracy: 0.3230 - val_loss: 1.4855 - val_accuracy: 0.3390\n",
            "Epoch 6/6\n",
            "10/10 [==============================] - 0s 40ms/step - loss: 1.4757 - accuracy: 0.3338 - val_loss: 1.4532 - val_accuracy: 0.3425\n",
            "70/70 [==============================] - 0s 2ms/step - loss: 1.4564 - accuracy: 0.3452\n"
          ]
        }
      ]
    },
    {
      "cell_type": "code",
      "source": [
        "results"
      ],
      "metadata": {
        "colab": {
          "base_uri": "https://localhost:8080/"
        },
        "id": "vQQlhnBM0s56",
        "outputId": "aef7ee8e-15d1-47aa-92d6-d8aec314ab2f"
      },
      "execution_count": 279,
      "outputs": [
        {
          "output_type": "execute_result",
          "data": {
            "text/plain": [
              "[1.0601580142974854, 0.502471923828125]"
            ]
          },
          "metadata": {},
          "execution_count": 279
        }
      ]
    },
    {
      "cell_type": "code",
      "source": [
        "predictions = model.predict(X_test2)"
      ],
      "metadata": {
        "colab": {
          "base_uri": "https://localhost:8080/"
        },
        "id": "JvH4YLZ80us4",
        "outputId": "6c7d855d-4479-4e87-c34c-1a9a4a36c921"
      },
      "execution_count": 283,
      "outputs": [
        {
          "output_type": "stream",
          "name": "stdout",
          "text": [
            "70/70 [==============================] - 0s 1ms/step\n"
          ]
        }
      ]
    },
    {
      "cell_type": "code",
      "source": [
        "predictions[0].shape\n",
        "print(np.sum(predictions[0]))\n",
        "np.argmax(predictions[0])"
      ],
      "metadata": {
        "colab": {
          "base_uri": "https://localhost:8080/"
        },
        "id": "T26YqDoT004n",
        "outputId": "2cd151ad-bbde-44b1-d290-3d443962bcc1"
      },
      "execution_count": 284,
      "outputs": [
        {
          "output_type": "stream",
          "name": "stdout",
          "text": [
            "0.3810634\n"
          ]
        },
        {
          "output_type": "execute_result",
          "data": {
            "text/plain": [
              "0"
            ]
          },
          "metadata": {},
          "execution_count": 284
        }
      ]
    },
    {
      "cell_type": "code",
      "source": [
        "model = models.Sequential()\n",
        "model.add(layers.Dense(32, activation='relu', input_shape=(4,)))\n",
        "model.add(layers.Dense(16, activation='relu'))\n",
        "model.add(layers.Dense(5, activation='softmax'))\n",
        "model.compile(optimizer='rmsprop',\n",
        "\n",
        "loss='categorical_crossentropy',\n",
        "metrics=['accuracy'])\n",
        "\n",
        "model.fit(partial_X_train2,\n",
        "          partial_y_train,\n",
        "          epochs=20,\n",
        "          batch_size=128,\n",
        "          validation_data=(X_val2, y_val))"
      ],
      "metadata": {
        "colab": {
          "base_uri": "https://localhost:8080/",
          "height": 398
        },
        "id": "XlwqArT203LO",
        "outputId": "f7ace213-9d6e-4ad3-a88a-e782c0495379"
      },
      "execution_count": 285,
      "outputs": [
        {
          "output_type": "error",
          "ename": "ValueError",
          "evalue": "ignored",
          "traceback": [
            "\u001b[0;31m---------------------------------------------------------------------------\u001b[0m",
            "\u001b[0;31mValueError\u001b[0m                                Traceback (most recent call last)",
            "\u001b[0;32m<ipython-input-285-d4a72709e2cf>\u001b[0m in \u001b[0;36m<module>\u001b[0;34m\u001b[0m\n\u001b[1;32m     12\u001b[0m           \u001b[0mepochs\u001b[0m\u001b[0;34m=\u001b[0m\u001b[0;36m20\u001b[0m\u001b[0;34m,\u001b[0m\u001b[0;34m\u001b[0m\u001b[0;34m\u001b[0m\u001b[0m\n\u001b[1;32m     13\u001b[0m           \u001b[0mbatch_size\u001b[0m\u001b[0;34m=\u001b[0m\u001b[0;36m128\u001b[0m\u001b[0;34m,\u001b[0m\u001b[0;34m\u001b[0m\u001b[0;34m\u001b[0m\u001b[0m\n\u001b[0;32m---> 14\u001b[0;31m           validation_data=(X_val2, y_val))\n\u001b[0m",
            "\u001b[0;32m/usr/local/lib/python3.7/dist-packages/keras/utils/traceback_utils.py\u001b[0m in \u001b[0;36merror_handler\u001b[0;34m(*args, **kwargs)\u001b[0m\n\u001b[1;32m     65\u001b[0m     \u001b[0;32mexcept\u001b[0m \u001b[0mException\u001b[0m \u001b[0;32mas\u001b[0m \u001b[0me\u001b[0m\u001b[0;34m:\u001b[0m  \u001b[0;31m# pylint: disable=broad-except\u001b[0m\u001b[0;34m\u001b[0m\u001b[0;34m\u001b[0m\u001b[0m\n\u001b[1;32m     66\u001b[0m       \u001b[0mfiltered_tb\u001b[0m \u001b[0;34m=\u001b[0m \u001b[0m_process_traceback_frames\u001b[0m\u001b[0;34m(\u001b[0m\u001b[0me\u001b[0m\u001b[0;34m.\u001b[0m\u001b[0m__traceback__\u001b[0m\u001b[0;34m)\u001b[0m\u001b[0;34m\u001b[0m\u001b[0;34m\u001b[0m\u001b[0m\n\u001b[0;32m---> 67\u001b[0;31m       \u001b[0;32mraise\u001b[0m \u001b[0me\u001b[0m\u001b[0;34m.\u001b[0m\u001b[0mwith_traceback\u001b[0m\u001b[0;34m(\u001b[0m\u001b[0mfiltered_tb\u001b[0m\u001b[0;34m)\u001b[0m \u001b[0;32mfrom\u001b[0m \u001b[0;32mNone\u001b[0m\u001b[0;34m\u001b[0m\u001b[0;34m\u001b[0m\u001b[0m\n\u001b[0m\u001b[1;32m     68\u001b[0m     \u001b[0;32mfinally\u001b[0m\u001b[0;34m:\u001b[0m\u001b[0;34m\u001b[0m\u001b[0;34m\u001b[0m\u001b[0m\n\u001b[1;32m     69\u001b[0m       \u001b[0;32mdel\u001b[0m \u001b[0mfiltered_tb\u001b[0m\u001b[0;34m\u001b[0m\u001b[0;34m\u001b[0m\u001b[0m\n",
            "\u001b[0;32m/usr/local/lib/python3.7/dist-packages/keras/engine/data_adapter.py\u001b[0m in \u001b[0;36m_check_data_cardinality\u001b[0;34m(data)\u001b[0m\n\u001b[1;32m   1653\u001b[0m                            for i in tf.nest.flatten(single_data)))\n\u001b[1;32m   1654\u001b[0m     \u001b[0mmsg\u001b[0m \u001b[0;34m+=\u001b[0m \u001b[0;34m\"Make sure all arrays contain the same number of samples.\"\u001b[0m\u001b[0;34m\u001b[0m\u001b[0;34m\u001b[0m\u001b[0m\n\u001b[0;32m-> 1655\u001b[0;31m     \u001b[0;32mraise\u001b[0m \u001b[0mValueError\u001b[0m\u001b[0;34m(\u001b[0m\u001b[0mmsg\u001b[0m\u001b[0;34m)\u001b[0m\u001b[0;34m\u001b[0m\u001b[0;34m\u001b[0m\u001b[0m\n\u001b[0m\u001b[1;32m   1656\u001b[0m \u001b[0;34m\u001b[0m\u001b[0m\n\u001b[1;32m   1657\u001b[0m \u001b[0;34m\u001b[0m\u001b[0m\n",
            "\u001b[0;31mValueError\u001b[0m: Data cardinality is ambiguous:\n  x sizes: 4898\n  y sizes: 4561\nMake sure all arrays contain the same number of samples."
          ]
        }
      ]
    },
    {
      "cell_type": "markdown",
      "source": [
        "Further experiments for example 2"
      ],
      "metadata": {
        "id": "o-BgIYPf1CoH"
      }
    },
    {
      "cell_type": "code",
      "source": [
        "model = models.Sequential()\n",
        "model.add(layers.Dense(32, activation='relu', input_shape=(14,)))\n",
        "model.add(layers.Dense(32, activation='relu'))\n",
        "model.add(layers.Dense(7, activation='softmax'))\n",
        "model.compile(optimizer='rmsprop',\n",
        "\n",
        "loss='categorical_crossentropy',\n",
        "metrics=['accuracy'])\n",
        "\n",
        "model.fit(partial_X_train2,\n",
        "partial_y_train,\n",
        "epochs=9,\n",
        "batch_size=512,\n",
        "validation_data=(X_val2, y_val2))\n",
        "\n",
        "results = model.evaluate(X_test2, one_hot_test_labels)\n",
        "print(\"results: \", results)"
      ],
      "metadata": {
        "colab": {
          "base_uri": "https://localhost:8080/",
          "height": 433
        },
        "id": "tlQ8GwNs1JYf",
        "outputId": "bcb4229b-bbc4-4e41-fe9f-64b78678e476"
      },
      "execution_count": 286,
      "outputs": [
        {
          "output_type": "error",
          "ename": "ValueError",
          "evalue": "ignored",
          "traceback": [
            "\u001b[0;31m---------------------------------------------------------------------------\u001b[0m",
            "\u001b[0;31mValueError\u001b[0m                                Traceback (most recent call last)",
            "\u001b[0;32m<ipython-input-286-43a6bb220a80>\u001b[0m in \u001b[0;36m<module>\u001b[0;34m\u001b[0m\n\u001b[1;32m     12\u001b[0m \u001b[0mepochs\u001b[0m\u001b[0;34m=\u001b[0m\u001b[0;36m9\u001b[0m\u001b[0;34m,\u001b[0m\u001b[0;34m\u001b[0m\u001b[0;34m\u001b[0m\u001b[0m\n\u001b[1;32m     13\u001b[0m \u001b[0mbatch_size\u001b[0m\u001b[0;34m=\u001b[0m\u001b[0;36m512\u001b[0m\u001b[0;34m,\u001b[0m\u001b[0;34m\u001b[0m\u001b[0;34m\u001b[0m\u001b[0m\n\u001b[0;32m---> 14\u001b[0;31m validation_data=(X_val2, y_val2))\n\u001b[0m\u001b[1;32m     15\u001b[0m \u001b[0;34m\u001b[0m\u001b[0m\n\u001b[1;32m     16\u001b[0m \u001b[0mresults\u001b[0m \u001b[0;34m=\u001b[0m \u001b[0mmodel\u001b[0m\u001b[0;34m.\u001b[0m\u001b[0mevaluate\u001b[0m\u001b[0;34m(\u001b[0m\u001b[0mX_test2\u001b[0m\u001b[0;34m,\u001b[0m \u001b[0mone_hot_test_labels\u001b[0m\u001b[0;34m)\u001b[0m\u001b[0;34m\u001b[0m\u001b[0;34m\u001b[0m\u001b[0m\n",
            "\u001b[0;32m/usr/local/lib/python3.7/dist-packages/keras/utils/traceback_utils.py\u001b[0m in \u001b[0;36merror_handler\u001b[0;34m(*args, **kwargs)\u001b[0m\n\u001b[1;32m     65\u001b[0m     \u001b[0;32mexcept\u001b[0m \u001b[0mException\u001b[0m \u001b[0;32mas\u001b[0m \u001b[0me\u001b[0m\u001b[0;34m:\u001b[0m  \u001b[0;31m# pylint: disable=broad-except\u001b[0m\u001b[0;34m\u001b[0m\u001b[0;34m\u001b[0m\u001b[0m\n\u001b[1;32m     66\u001b[0m       \u001b[0mfiltered_tb\u001b[0m \u001b[0;34m=\u001b[0m \u001b[0m_process_traceback_frames\u001b[0m\u001b[0;34m(\u001b[0m\u001b[0me\u001b[0m\u001b[0;34m.\u001b[0m\u001b[0m__traceback__\u001b[0m\u001b[0;34m)\u001b[0m\u001b[0;34m\u001b[0m\u001b[0;34m\u001b[0m\u001b[0m\n\u001b[0;32m---> 67\u001b[0;31m       \u001b[0;32mraise\u001b[0m \u001b[0me\u001b[0m\u001b[0;34m.\u001b[0m\u001b[0mwith_traceback\u001b[0m\u001b[0;34m(\u001b[0m\u001b[0mfiltered_tb\u001b[0m\u001b[0;34m)\u001b[0m \u001b[0;32mfrom\u001b[0m \u001b[0;32mNone\u001b[0m\u001b[0;34m\u001b[0m\u001b[0;34m\u001b[0m\u001b[0m\n\u001b[0m\u001b[1;32m     68\u001b[0m     \u001b[0;32mfinally\u001b[0m\u001b[0;34m:\u001b[0m\u001b[0;34m\u001b[0m\u001b[0;34m\u001b[0m\u001b[0m\n\u001b[1;32m     69\u001b[0m       \u001b[0;32mdel\u001b[0m \u001b[0mfiltered_tb\u001b[0m\u001b[0;34m\u001b[0m\u001b[0;34m\u001b[0m\u001b[0m\n",
            "\u001b[0;32m/usr/local/lib/python3.7/dist-packages/keras/engine/data_adapter.py\u001b[0m in \u001b[0;36m_check_data_cardinality\u001b[0;34m(data)\u001b[0m\n\u001b[1;32m   1653\u001b[0m                            for i in tf.nest.flatten(single_data)))\n\u001b[1;32m   1654\u001b[0m     \u001b[0mmsg\u001b[0m \u001b[0;34m+=\u001b[0m \u001b[0;34m\"Make sure all arrays contain the same number of samples.\"\u001b[0m\u001b[0;34m\u001b[0m\u001b[0;34m\u001b[0m\u001b[0m\n\u001b[0;32m-> 1655\u001b[0;31m     \u001b[0;32mraise\u001b[0m \u001b[0mValueError\u001b[0m\u001b[0;34m(\u001b[0m\u001b[0mmsg\u001b[0m\u001b[0;34m)\u001b[0m\u001b[0;34m\u001b[0m\u001b[0;34m\u001b[0m\u001b[0m\n\u001b[0m\u001b[1;32m   1656\u001b[0m \u001b[0;34m\u001b[0m\u001b[0m\n\u001b[1;32m   1657\u001b[0m \u001b[0;34m\u001b[0m\u001b[0m\n",
            "\u001b[0;31mValueError\u001b[0m: Data cardinality is ambiguous:\n  x sizes: 4898\n  y sizes: 4561\nMake sure all arrays contain the same number of samples."
          ]
        }
      ]
    },
    {
      "cell_type": "code",
      "source": [
        "model = models.Sequential()\n",
        "model.add(layers.Dense(64, activation='relu', input_shape=(14,)))\n",
        "model.add(layers.Dense(64, activation='relu'))\n",
        "model.add(layers.Dense(64, activation='relu'))\n",
        "model.add(layers.Dense(7, activation='softmax'))\n",
        "model.compile(optimizer='rmsprop',\n",
        "\n",
        "loss='categorical_crossentropy',\n",
        "metrics=['accuracy'])\n",
        "\n",
        "model.fit(partial_X_train2,\n",
        "partial_y_train,\n",
        "epochs=9,\n",
        "batch_size=512,\n",
        "validation_data=(X_val2, y_val2))\n",
        "\n",
        "results = model.evaluate(X_test2, one_hot_test_labels)\n",
        "print(\"results: \", results)"
      ],
      "metadata": {
        "colab": {
          "base_uri": "https://localhost:8080/",
          "height": 433
        },
        "id": "pEtVPjbZ1Rfk",
        "outputId": "04191b79-4b94-4b2c-ac7a-36d8f55c8990"
      },
      "execution_count": 287,
      "outputs": [
        {
          "output_type": "error",
          "ename": "ValueError",
          "evalue": "ignored",
          "traceback": [
            "\u001b[0;31m---------------------------------------------------------------------------\u001b[0m",
            "\u001b[0;31mValueError\u001b[0m                                Traceback (most recent call last)",
            "\u001b[0;32m<ipython-input-287-23e3d7a95fa8>\u001b[0m in \u001b[0;36m<module>\u001b[0;34m\u001b[0m\n\u001b[1;32m     13\u001b[0m \u001b[0mepochs\u001b[0m\u001b[0;34m=\u001b[0m\u001b[0;36m9\u001b[0m\u001b[0;34m,\u001b[0m\u001b[0;34m\u001b[0m\u001b[0;34m\u001b[0m\u001b[0m\n\u001b[1;32m     14\u001b[0m \u001b[0mbatch_size\u001b[0m\u001b[0;34m=\u001b[0m\u001b[0;36m512\u001b[0m\u001b[0;34m,\u001b[0m\u001b[0;34m\u001b[0m\u001b[0;34m\u001b[0m\u001b[0m\n\u001b[0;32m---> 15\u001b[0;31m validation_data=(X_val2, y_val2))\n\u001b[0m\u001b[1;32m     16\u001b[0m \u001b[0;34m\u001b[0m\u001b[0m\n\u001b[1;32m     17\u001b[0m \u001b[0mresults\u001b[0m \u001b[0;34m=\u001b[0m \u001b[0mmodel\u001b[0m\u001b[0;34m.\u001b[0m\u001b[0mevaluate\u001b[0m\u001b[0;34m(\u001b[0m\u001b[0mX_test2\u001b[0m\u001b[0;34m,\u001b[0m \u001b[0mone_hot_test_labels\u001b[0m\u001b[0;34m)\u001b[0m\u001b[0;34m\u001b[0m\u001b[0;34m\u001b[0m\u001b[0m\n",
            "\u001b[0;32m/usr/local/lib/python3.7/dist-packages/keras/utils/traceback_utils.py\u001b[0m in \u001b[0;36merror_handler\u001b[0;34m(*args, **kwargs)\u001b[0m\n\u001b[1;32m     65\u001b[0m     \u001b[0;32mexcept\u001b[0m \u001b[0mException\u001b[0m \u001b[0;32mas\u001b[0m \u001b[0me\u001b[0m\u001b[0;34m:\u001b[0m  \u001b[0;31m# pylint: disable=broad-except\u001b[0m\u001b[0;34m\u001b[0m\u001b[0;34m\u001b[0m\u001b[0m\n\u001b[1;32m     66\u001b[0m       \u001b[0mfiltered_tb\u001b[0m \u001b[0;34m=\u001b[0m \u001b[0m_process_traceback_frames\u001b[0m\u001b[0;34m(\u001b[0m\u001b[0me\u001b[0m\u001b[0;34m.\u001b[0m\u001b[0m__traceback__\u001b[0m\u001b[0;34m)\u001b[0m\u001b[0;34m\u001b[0m\u001b[0;34m\u001b[0m\u001b[0m\n\u001b[0;32m---> 67\u001b[0;31m       \u001b[0;32mraise\u001b[0m \u001b[0me\u001b[0m\u001b[0;34m.\u001b[0m\u001b[0mwith_traceback\u001b[0m\u001b[0;34m(\u001b[0m\u001b[0mfiltered_tb\u001b[0m\u001b[0;34m)\u001b[0m \u001b[0;32mfrom\u001b[0m \u001b[0;32mNone\u001b[0m\u001b[0;34m\u001b[0m\u001b[0;34m\u001b[0m\u001b[0m\n\u001b[0m\u001b[1;32m     68\u001b[0m     \u001b[0;32mfinally\u001b[0m\u001b[0;34m:\u001b[0m\u001b[0;34m\u001b[0m\u001b[0;34m\u001b[0m\u001b[0m\n\u001b[1;32m     69\u001b[0m       \u001b[0;32mdel\u001b[0m \u001b[0mfiltered_tb\u001b[0m\u001b[0;34m\u001b[0m\u001b[0;34m\u001b[0m\u001b[0m\n",
            "\u001b[0;32m/usr/local/lib/python3.7/dist-packages/keras/engine/data_adapter.py\u001b[0m in \u001b[0;36m_check_data_cardinality\u001b[0;34m(data)\u001b[0m\n\u001b[1;32m   1653\u001b[0m                            for i in tf.nest.flatten(single_data)))\n\u001b[1;32m   1654\u001b[0m     \u001b[0mmsg\u001b[0m \u001b[0;34m+=\u001b[0m \u001b[0;34m\"Make sure all arrays contain the same number of samples.\"\u001b[0m\u001b[0;34m\u001b[0m\u001b[0;34m\u001b[0m\u001b[0m\n\u001b[0;32m-> 1655\u001b[0;31m     \u001b[0;32mraise\u001b[0m \u001b[0mValueError\u001b[0m\u001b[0;34m(\u001b[0m\u001b[0mmsg\u001b[0m\u001b[0;34m)\u001b[0m\u001b[0;34m\u001b[0m\u001b[0;34m\u001b[0m\u001b[0m\n\u001b[0m\u001b[1;32m   1656\u001b[0m \u001b[0;34m\u001b[0m\u001b[0m\n\u001b[1;32m   1657\u001b[0m \u001b[0;34m\u001b[0m\u001b[0m\n",
            "\u001b[0;31mValueError\u001b[0m: Data cardinality is ambiguous:\n  x sizes: 4898\n  y sizes: 4561\nMake sure all arrays contain the same number of samples."
          ]
        }
      ]
    },
    {
      "cell_type": "markdown",
      "source": [
        "example 3"
      ],
      "metadata": {
        "id": "ryUDxxXW1ZP_"
      }
    },
    {
      "cell_type": "code",
      "source": [
        "features3 = ['average_rating', 'ratings_count', 'text_reviews_count', 'language_bool', 'num_pages']\n",
        "predictors3 = ['average_rating', 'text_reviews_count', 'language_bool', 'num_pages']\n",
        "\n",
        "bookDF3 = book[features3]\n",
        "print(bookDF3.shape)\n",
        "bookDF3.dropna(inplace = True)\n",
        "print(bookDF3.shape)"
      ],
      "metadata": {
        "colab": {
          "base_uri": "https://localhost:8080/"
        },
        "id": "vIuxWn7N1bR6",
        "outputId": "98278518-5413-48fa-a1ac-1d4127f8c2dd"
      },
      "execution_count": 288,
      "outputs": [
        {
          "output_type": "stream",
          "name": "stdout",
          "text": [
            "(11123, 5)\n",
            "(11123, 5)\n"
          ]
        }
      ]
    },
    {
      "cell_type": "code",
      "source": [
        "X = bookDF3[predictors3]\n",
        "z = StandardScaler() #trying standard scalar\n",
        "zScored = z.fit_transform(X)\n",
        "bookDF3[predictors3] = zScored"
      ],
      "metadata": {
        "id": "2zDZUK-z2f47"
      },
      "execution_count": 289,
      "outputs": []
    },
    {
      "cell_type": "code",
      "source": [
        "bookDF3.head()"
      ],
      "metadata": {
        "id": "NJGAIw_K21M3"
      },
      "execution_count": null,
      "outputs": []
    },
    {
      "cell_type": "code",
      "source": [
        "# x = features\n",
        "XPred3 = bookDF3[predictors3]\n",
        "#set y = classification column\n",
        "yClass3 = bookDF3['ratings_count']\n",
        "#split into TT sets\n",
        "X_train3, X_test3, y_train3, y_test3 = train_test_split(XPred3, yClass3, test_size = 0.2, random_state = 68)"
      ],
      "metadata": {
        "id": "4TbDT0BJ24UV"
      },
      "execution_count": null,
      "outputs": []
    },
    {
      "cell_type": "code",
      "source": [
        "X_train3 = X_train3.to_numpy()\n",
        "y_train3 = y_train3.to_numpy()\n",
        "X_test3 = X_test3.to_numpy()\n",
        "y_test3 = y_test3.to_numpy()\n",
        "X_train3 = tf.convert_to_tensor(X_train3, dtype = tf.float64)\n",
        "y_train3 = tf.convert_to_tensor(y_train3, dtype = tf.float64)\n",
        "X_test3 = tf.convert_to_tensor(X_test3, dtype = tf.float64)\n",
        "y_test3 = tf.convert_to_tensor(y_test3, dtype = tf.float64)"
      ],
      "metadata": {
        "id": "qyCz5t2p3NXb"
      },
      "execution_count": null,
      "outputs": []
    },
    {
      "cell_type": "code",
      "source": [
        "def build_model():\n",
        "  model9 = models.Sequential()\n",
        "  model9.add(layers.Dense(128, activation='relu',\n",
        "                         input_shape=(X_train3.shape[1],)))\n",
        "  model9.add(layers.Dense(128, activation='relu')) \n",
        "  model9.add(layers.Dense(128, activation='relu'))\n",
        "  model9.add(layers.Dense(1))\n",
        "  model9.compile(optimizer='rmsprop', loss='mse', metrics=['mae'])\n",
        "  return model9"
      ],
      "metadata": {
        "id": "H6g0NBl__sOh"
      },
      "execution_count": null,
      "outputs": []
    },
    {
      "cell_type": "code",
      "source": [
        "X_val3 = X_train3[:1000]\n",
        "partial_X_train3 = X_train3[1000:]\n",
        "y_val3 = y_train3[:1000]\n",
        "partial_y_train3 = y_train3[1000:]"
      ],
      "metadata": {
        "id": "zkc2Z1EN_7Wi"
      },
      "execution_count": null,
      "outputs": []
    },
    {
      "cell_type": "code",
      "source": [
        "model9 = build_model()\n",
        "history = model9.fit(partial_X_train3,\n",
        "                    partial_y_train3,\n",
        "                    epochs=20,\n",
        "                    batch_size=512,\n",
        "                    validation_data=(X_val3, y_val3),\n",
        "                    verbose = 0)\n",
        "val_mse, val_mae = model9.evaluate(X_val3, y_val3, verbose=0)"
      ],
      "metadata": {
        "id": "oFOvAvUeAQUN"
      },
      "execution_count": null,
      "outputs": []
    },
    {
      "cell_type": "code",
      "source": [
        "print(\"val_mse: \", val_mse)\n",
        "print(\"val_mae: \", val_mae)"
      ],
      "metadata": {
        "id": "QkTEDO9BAgJ2"
      },
      "execution_count": null,
      "outputs": []
    },
    {
      "cell_type": "code",
      "source": [
        "k=4\n",
        "num_val_samples = len(X_train3) // k\n",
        "num_epochs = 100\n",
        "all_scores = []"
      ],
      "metadata": {
        "id": "ysrI0wlxDa1S"
      },
      "execution_count": null,
      "outputs": []
    },
    {
      "cell_type": "code",
      "source": [
        "for i in range(k):\n",
        "  print('processing fold #', i)\n",
        "  val_data = X_train3[i * num_val_samples: (i + 1) * num_val_samples]\n",
        "  val_targets = y_train3[i * num_val_samples: (i + 1) * num_val_samples]\n",
        "  partial_train_data = np.concatenate(\n",
        "      [X_train3[:i * num_val_samples],\n",
        "       X_train3[(i + 1) * num_val_samples:]],\n",
        "       axis=0)\n",
        "  partial_train_targets = np.concatenate(\n",
        "      [y_train3[:i * num_val_samples],\n",
        "       y_train3[(i + 1) * num_val_samples:]],\n",
        "       axis=0)\n",
        "  model = build_model()\n",
        "  model.fit(partial_train_data, partial_train_targets,\n",
        "            epochs=num_epochs, batch_size=1, verbose=0)\n",
        "  val_mse, val_mae = model.evaluate(val_data, val_targets, verbose=0)\n",
        "  all_scores.append(val_mae)"
      ],
      "metadata": {
        "id": "9ci_gKT_DlIU"
      },
      "execution_count": null,
      "outputs": []
    }
  ]
}